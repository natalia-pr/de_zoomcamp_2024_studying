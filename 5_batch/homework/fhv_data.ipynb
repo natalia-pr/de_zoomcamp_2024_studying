{
 "cells": [
  {
   "cell_type": "code",
   "execution_count": 1,
   "id": "6b2126ea-dfbe-4f3d-9462-0368eb5f68ca",
   "metadata": {},
   "outputs": [],
   "source": [
    "import pyspark\n",
    "from pyspark.sql import SparkSession"
   ]
  },
  {
   "cell_type": "code",
   "execution_count": 2,
   "id": "b4657b9e-17b1-4e9a-bbf6-be6c1c3b81da",
   "metadata": {},
   "outputs": [
    {
     "name": "stderr",
     "output_type": "stream",
     "text": [
      "Setting default log level to \"WARN\".\n",
      "To adjust logging level use sc.setLogLevel(newLevel). For SparkR, use setLogLevel(newLevel).\n",
      "24/03/04 15:48:42 WARN NativeCodeLoader: Unable to load native-hadoop library for your platform... using builtin-java classes where applicable\n"
     ]
    }
   ],
   "source": [
    "spark = SparkSession.builder \\\n",
    "    .master(\"local[*]\") \\\n",
    "    .appName('test') \\\n",
    "    .getOrCreate()"
   ]
  },
  {
   "cell_type": "code",
   "execution_count": 3,
   "id": "a89e6898-1f2c-40ea-b12f-3f623efc0c0e",
   "metadata": {},
   "outputs": [],
   "source": [
    "import pandas as pd"
   ]
  },
  {
   "cell_type": "code",
   "execution_count": 5,
   "id": "12e98158-df31-4251-ab06-64b5af1d3a7f",
   "metadata": {},
   "outputs": [],
   "source": [
    "df_fhv_pd = pd.read_csv('./data/raw/fhv/fhv_tripdata_2019-10.csv', nrows=100)"
   ]
  },
  {
   "cell_type": "code",
   "execution_count": 6,
   "id": "1814d3fe-2195-48c6-8f62-bdd53250e3e9",
   "metadata": {},
   "outputs": [
    {
     "data": {
      "text/html": [
       "<div>\n",
       "<style scoped>\n",
       "    .dataframe tbody tr th:only-of-type {\n",
       "        vertical-align: middle;\n",
       "    }\n",
       "\n",
       "    .dataframe tbody tr th {\n",
       "        vertical-align: top;\n",
       "    }\n",
       "\n",
       "    .dataframe thead th {\n",
       "        text-align: right;\n",
       "    }\n",
       "</style>\n",
       "<table border=\"1\" class=\"dataframe\">\n",
       "  <thead>\n",
       "    <tr style=\"text-align: right;\">\n",
       "      <th></th>\n",
       "      <th>dispatching_base_num</th>\n",
       "      <th>pickup_datetime</th>\n",
       "      <th>dropOff_datetime</th>\n",
       "      <th>PUlocationID</th>\n",
       "      <th>DOlocationID</th>\n",
       "      <th>SR_Flag</th>\n",
       "      <th>Affiliated_base_number</th>\n",
       "    </tr>\n",
       "  </thead>\n",
       "  <tbody>\n",
       "    <tr>\n",
       "      <th>0</th>\n",
       "      <td>B00009</td>\n",
       "      <td>2019-10-01 00:23:00</td>\n",
       "      <td>2019-10-01 00:35:00</td>\n",
       "      <td>264</td>\n",
       "      <td>264</td>\n",
       "      <td>NaN</td>\n",
       "      <td>B00009</td>\n",
       "    </tr>\n",
       "    <tr>\n",
       "      <th>1</th>\n",
       "      <td>B00013</td>\n",
       "      <td>2019-10-01 00:11:29</td>\n",
       "      <td>2019-10-01 00:13:22</td>\n",
       "      <td>264</td>\n",
       "      <td>264</td>\n",
       "      <td>NaN</td>\n",
       "      <td>B00013</td>\n",
       "    </tr>\n",
       "    <tr>\n",
       "      <th>2</th>\n",
       "      <td>B00014</td>\n",
       "      <td>2019-10-01 00:11:43</td>\n",
       "      <td>2019-10-01 00:37:20</td>\n",
       "      <td>264</td>\n",
       "      <td>264</td>\n",
       "      <td>NaN</td>\n",
       "      <td>B00014</td>\n",
       "    </tr>\n",
       "    <tr>\n",
       "      <th>3</th>\n",
       "      <td>B00014</td>\n",
       "      <td>2019-10-01 00:56:29</td>\n",
       "      <td>2019-10-01 00:57:47</td>\n",
       "      <td>264</td>\n",
       "      <td>264</td>\n",
       "      <td>NaN</td>\n",
       "      <td>B00014</td>\n",
       "    </tr>\n",
       "    <tr>\n",
       "      <th>4</th>\n",
       "      <td>B00014</td>\n",
       "      <td>2019-10-01 00:23:09</td>\n",
       "      <td>2019-10-01 00:28:27</td>\n",
       "      <td>264</td>\n",
       "      <td>264</td>\n",
       "      <td>NaN</td>\n",
       "      <td>B00014</td>\n",
       "    </tr>\n",
       "    <tr>\n",
       "      <th>...</th>\n",
       "      <td>...</td>\n",
       "      <td>...</td>\n",
       "      <td>...</td>\n",
       "      <td>...</td>\n",
       "      <td>...</td>\n",
       "      <td>...</td>\n",
       "      <td>...</td>\n",
       "    </tr>\n",
       "    <tr>\n",
       "      <th>95</th>\n",
       "      <td>B00310</td>\n",
       "      <td>2019-10-01 00:06:02</td>\n",
       "      <td>2019-10-01 00:14:04</td>\n",
       "      <td>264</td>\n",
       "      <td>242</td>\n",
       "      <td>NaN</td>\n",
       "      <td>B00310</td>\n",
       "    </tr>\n",
       "    <tr>\n",
       "      <th>96</th>\n",
       "      <td>B00310</td>\n",
       "      <td>2019-10-01 00:03:43</td>\n",
       "      <td>2019-10-01 00:07:26</td>\n",
       "      <td>264</td>\n",
       "      <td>213</td>\n",
       "      <td>NaN</td>\n",
       "      <td>B02534</td>\n",
       "    </tr>\n",
       "    <tr>\n",
       "      <th>97</th>\n",
       "      <td>B00310</td>\n",
       "      <td>2019-10-01 00:37:14</td>\n",
       "      <td>2019-10-01 00:51:58</td>\n",
       "      <td>264</td>\n",
       "      <td>241</td>\n",
       "      <td>NaN</td>\n",
       "      <td>B02879</td>\n",
       "    </tr>\n",
       "    <tr>\n",
       "      <th>98</th>\n",
       "      <td>B00310</td>\n",
       "      <td>2019-10-01 00:42:41</td>\n",
       "      <td>2019-10-01 00:54:42</td>\n",
       "      <td>264</td>\n",
       "      <td>213</td>\n",
       "      <td>NaN</td>\n",
       "      <td>B02875</td>\n",
       "    </tr>\n",
       "    <tr>\n",
       "      <th>99</th>\n",
       "      <td>B00310</td>\n",
       "      <td>2019-10-01 00:15:57</td>\n",
       "      <td>2019-10-01 00:18:27</td>\n",
       "      <td>264</td>\n",
       "      <td>147</td>\n",
       "      <td>NaN</td>\n",
       "      <td>B02879</td>\n",
       "    </tr>\n",
       "  </tbody>\n",
       "</table>\n",
       "<p>100 rows × 7 columns</p>\n",
       "</div>"
      ],
      "text/plain": [
       "   dispatching_base_num      pickup_datetime     dropOff_datetime  \\\n",
       "0                B00009  2019-10-01 00:23:00  2019-10-01 00:35:00   \n",
       "1                B00013  2019-10-01 00:11:29  2019-10-01 00:13:22   \n",
       "2                B00014  2019-10-01 00:11:43  2019-10-01 00:37:20   \n",
       "3                B00014  2019-10-01 00:56:29  2019-10-01 00:57:47   \n",
       "4                B00014  2019-10-01 00:23:09  2019-10-01 00:28:27   \n",
       "..                  ...                  ...                  ...   \n",
       "95               B00310  2019-10-01 00:06:02  2019-10-01 00:14:04   \n",
       "96               B00310  2019-10-01 00:03:43  2019-10-01 00:07:26   \n",
       "97               B00310  2019-10-01 00:37:14  2019-10-01 00:51:58   \n",
       "98               B00310  2019-10-01 00:42:41  2019-10-01 00:54:42   \n",
       "99               B00310  2019-10-01 00:15:57  2019-10-01 00:18:27   \n",
       "\n",
       "    PUlocationID  DOlocationID  SR_Flag Affiliated_base_number  \n",
       "0            264           264      NaN                 B00009  \n",
       "1            264           264      NaN                 B00013  \n",
       "2            264           264      NaN                 B00014  \n",
       "3            264           264      NaN                 B00014  \n",
       "4            264           264      NaN                 B00014  \n",
       "..           ...           ...      ...                    ...  \n",
       "95           264           242      NaN                 B00310  \n",
       "96           264           213      NaN                 B02534  \n",
       "97           264           241      NaN                 B02879  \n",
       "98           264           213      NaN                 B02875  \n",
       "99           264           147      NaN                 B02879  \n",
       "\n",
       "[100 rows x 7 columns]"
      ]
     },
     "execution_count": 6,
     "metadata": {},
     "output_type": "execute_result"
    }
   ],
   "source": [
    "df_fhv_pd"
   ]
  },
  {
   "cell_type": "code",
   "execution_count": 10,
   "id": "c0b3dd3d-dfbb-4854-b3b3-5857358523b5",
   "metadata": {},
   "outputs": [
    {
     "data": {
      "text/plain": [
       "dispatching_base_num       object\n",
       "pickup_datetime            object\n",
       "dropOff_datetime           object\n",
       "PUlocationID                int64\n",
       "DOlocationID                int64\n",
       "SR_Flag                   float64\n",
       "Affiliated_base_number     object\n",
       "dtype: object"
      ]
     },
     "execution_count": 10,
     "metadata": {},
     "output_type": "execute_result"
    }
   ],
   "source": [
    "df_fhv_pd.dtypes"
   ]
  },
  {
   "cell_type": "code",
   "execution_count": 11,
   "id": "a6c51cd9-965a-4f7c-bdb2-03e5743e39ee",
   "metadata": {},
   "outputs": [
    {
     "data": {
      "text/plain": [
       "StructType([StructField('dispatching_base_num', StringType(), True), StructField('pickup_datetime', StringType(), True), StructField('dropOff_datetime', StringType(), True), StructField('PUlocationID', LongType(), True), StructField('DOlocationID', LongType(), True), StructField('SR_Flag', DoubleType(), True), StructField('Affiliated_base_number', StringType(), True)])"
      ]
     },
     "execution_count": 11,
     "metadata": {},
     "output_type": "execute_result"
    }
   ],
   "source": [
    "spark.createDataFrame(df_fhv_pd).schema"
   ]
  },
  {
   "cell_type": "code",
   "execution_count": 12,
   "id": "55201af6-6c8e-473c-ab14-b3bd6e6e6633",
   "metadata": {},
   "outputs": [],
   "source": [
    "from pyspark.sql import types"
   ]
  },
  {
   "cell_type": "code",
   "execution_count": 14,
   "id": "8c431879-77a7-4faf-a604-ddd9630d3852",
   "metadata": {},
   "outputs": [],
   "source": [
    "fhv_schema = types.StructType([\n",
    "    types.StructField('dispatching_base_num', types.StringType(), True), \n",
    "    types.StructField('pickup_datetime', types.TimestampType(), True), \n",
    "    types.StructField('dropOff_datetime', types.TimestampType(), True), \n",
    "    types.StructField('PUlocationID', types.IntegerType(), True), \n",
    "    types.StructField('DOlocationID', types.IntegerType(), True), \n",
    "    types.StructField('SR_Flag', types.DoubleType(), True), \n",
    "    types.StructField('Affiliated_base_number', types.StringType(), True)\n",
    "])"
   ]
  },
  {
   "cell_type": "code",
   "execution_count": 15,
   "id": "f024e8fd-c278-48d7-be81-0d72f0060ff0",
   "metadata": {},
   "outputs": [],
   "source": [
    "df_fhv = spark.read \\\n",
    "    .option(\"header\", \"true\") \\\n",
    "    .schema(fhv_schema) \\\n",
    "    .csv('data/raw/fhv/')"
   ]
  },
  {
   "cell_type": "code",
   "execution_count": 16,
   "id": "991b2d53-55eb-4bdf-84a2-8f8916e6d3be",
   "metadata": {},
   "outputs": [
    {
     "name": "stdout",
     "output_type": "stream",
     "text": [
      "root\n",
      " |-- dispatching_base_num: string (nullable = true)\n",
      " |-- pickup_datetime: timestamp (nullable = true)\n",
      " |-- dropOff_datetime: timestamp (nullable = true)\n",
      " |-- PUlocationID: integer (nullable = true)\n",
      " |-- DOlocationID: integer (nullable = true)\n",
      " |-- SR_Flag: double (nullable = true)\n",
      " |-- Affiliated_base_number: string (nullable = true)\n",
      "\n"
     ]
    }
   ],
   "source": [
    "df_fhv.printSchema()"
   ]
  },
  {
   "cell_type": "code",
   "execution_count": 17,
   "id": "0b07f778-c42e-4f03-9142-6186049fb0d6",
   "metadata": {},
   "outputs": [
    {
     "name": "stderr",
     "output_type": "stream",
     "text": [
      "                                                                                \r"
     ]
    }
   ],
   "source": [
    "df_fhv \\\n",
    "    .repartition(6) \\\n",
    "    .write.parquet('data/raw/fhv/pq/')"
   ]
  },
  {
   "cell_type": "code",
   "execution_count": 19,
   "id": "4232b4c4-16f5-4b10-801d-5d593c4af312",
   "metadata": {},
   "outputs": [],
   "source": [
    "df_fhv = spark.read.parquet('data/raw/fhv/pq/*')"
   ]
  },
  {
   "cell_type": "code",
   "execution_count": 20,
   "id": "7873f9c0-c089-4396-9eec-ee5dfeedf8be",
   "metadata": {},
   "outputs": [],
   "source": [
    "from pyspark.sql import functions as F"
   ]
  },
  {
   "cell_type": "code",
   "execution_count": 39,
   "id": "f6ef762a-22c2-447e-8dc3-be5e6c1d6422",
   "metadata": {},
   "outputs": [],
   "source": [
    "df_fhv = df_fhv \\\n",
    "    .withColumn('pickup_date', F.date_part(F.lit('D'), 'pickup_datetime').alias('day')) \\\n",
    "    .withColumn('duration', F.round((F.col('dropOff_datetime').cast(\"long\") - F.col('pickup_datetime').cast(\"long\")) / 3600))"
   ]
  },
  {
   "cell_type": "code",
   "execution_count": 40,
   "id": "298502fe-8299-4b50-9e7a-43693a1ae6ed",
   "metadata": {},
   "outputs": [
    {
     "name": "stdout",
     "output_type": "stream",
     "text": [
      "+--------------------+-------------------+-------------------+------------+------------+-------+----------------------+-----------+--------+\n",
      "|dispatching_base_num|    pickup_datetime|   dropOff_datetime|PUlocationID|DOlocationID|SR_Flag|Affiliated_base_number|pickup_date|duration|\n",
      "+--------------------+-------------------+-------------------+------------+------------+-------+----------------------+-----------+--------+\n",
      "|              B01231|2019-10-03 21:50:40|2019-10-03 21:55:35|         264|         217|   NULL|                B02849|          3|     0.0|\n",
      "|              B00227|2019-10-02 16:00:00|2019-10-02 18:10:00|         264|         264|   NULL|                B00227|          2|     2.0|\n",
      "|              B02103|2019-10-02 09:14:01|2019-10-02 09:23:00|         264|          92|   NULL|                B00095|          2|     0.0|\n",
      "|              B00860|2019-10-02 17:59:14|2019-10-02 18:10:28|         264|         200|   NULL|                B00860|          2|     0.0|\n",
      "|              B02715|2019-10-03 20:40:17|2019-10-03 21:16:27|         265|         262|   NULL|                B01087|          3|     1.0|\n",
      "|              B02731|2019-10-04 10:32:00|2019-10-04 11:08:00|         264|         264|   NULL|                B02731|          4|     1.0|\n",
      "|              B00856|2019-10-03 23:36:17|2019-10-03 23:50:15|         264|         210|   NULL|                B02765|          3|     0.0|\n",
      "|              B03064|2019-10-04 13:30:00|2019-10-04 14:25:00|         264|         264|   NULL|                  NULL|          4|     1.0|\n",
      "|              B02293|2019-10-03 16:12:38|2019-10-03 16:43:46|          41|         127|   NULL|                B02293|          3|     1.0|\n",
      "|              B01263|2019-10-02 21:36:16|2019-10-02 21:55:19|         264|          26|   NULL|                B01263|          2|     0.0|\n",
      "|              B01629|2019-10-02 09:58:42|2019-10-02 10:07:51|          77|          76|   NULL|                B01629|          2|     0.0|\n",
      "|              B03047|2019-10-01 09:10:48|2019-10-01 10:24:45|         180|          42|   NULL|                B03047|          1|     1.0|\n",
      "|              B00727|2019-10-04 12:38:18|2019-10-04 12:50:24|         264|         264|   NULL|                B00727|          4|     0.0|\n",
      "|              B00009|2019-10-02 07:56:00|2019-10-02 08:17:00|         264|         264|   NULL|                B00009|          2|     0.0|\n",
      "|              B02293|2019-10-02 08:18:04|2019-10-02 12:06:24|         116|          73|   NULL|                B02293|          2|     4.0|\n",
      "|              B01285|2019-10-03 11:34:53|2019-10-03 11:52:34|         264|          32|   NULL|                B01285|          3|     0.0|\n",
      "|              B03016|2019-10-01 13:46:53|2019-10-01 13:54:23|         264|          51|   NULL|                B02871|          1|     0.0|\n",
      "|              B02133|2019-10-01 11:22:01|2019-10-01 11:38:17|         264|         264|   NULL|                B02882|          1|     0.0|\n",
      "|              B02998|2019-10-02 08:16:26|2019-10-02 08:51:58|         168|         119|   NULL|                B02998|          2|     1.0|\n",
      "|              B01129|2019-10-03 16:43:00|2019-10-03 16:50:00|         264|         264|   NULL|                B01129|          3|     0.0|\n",
      "+--------------------+-------------------+-------------------+------------+------------+-------+----------------------+-----------+--------+\n",
      "only showing top 20 rows\n",
      "\n"
     ]
    }
   ],
   "source": [
    "df_fhv.show()"
   ]
  },
  {
   "cell_type": "code",
   "execution_count": 28,
   "id": "71d7404a-62fb-4f62-b77d-520231ae85bd",
   "metadata": {},
   "outputs": [
    {
     "name": "stdout",
     "output_type": "stream",
     "text": [
      "+-----------+-----+\n",
      "|pickup_date|count|\n",
      "+-----------+-----+\n",
      "|         31|63972|\n",
      "|         28|64075|\n",
      "|         26|52569|\n",
      "|         27|47708|\n",
      "|         12|51434|\n",
      "|         22|62950|\n",
      "|          1|59873|\n",
      "|         13|45900|\n",
      "|          6|45665|\n",
      "|         16|68156|\n",
      "|          3|71638|\n",
      "|         20|48304|\n",
      "|          5|52398|\n",
      "|         19|52530|\n",
      "|         15|62610|\n",
      "|          9|60468|\n",
      "|         17|67656|\n",
      "|          4|68227|\n",
      "|          8|64049|\n",
      "|         23|66429|\n",
      "+-----------+-----+\n",
      "only showing top 20 rows\n",
      "\n"
     ]
    }
   ],
   "source": [
    "df_fhv.groupBy('pickup_date').count().show()"
   ]
  },
  {
   "cell_type": "code",
   "execution_count": 41,
   "id": "7fc844e4-ce5d-4aa6-87dc-d900cfab5562",
   "metadata": {},
   "outputs": [
    {
     "name": "stdout",
     "output_type": "stream",
     "text": [
      "+-----------+-------------+\n",
      "|pickup_date|max(duration)|\n",
      "+-----------+-------------+\n",
      "|         31|      87672.0|\n",
      "|         28|     631153.0|\n",
      "|         26|       8785.0|\n",
      "|         27|        169.0|\n",
      "|         12|        530.0|\n",
      "|         22|        290.0|\n",
      "|          1|      70128.0|\n",
      "|         13|        506.0|\n",
      "|          6|        675.0|\n",
      "|         16|        605.0|\n",
      "|          3|        746.0|\n",
      "|         20|        338.0|\n",
      "|          5|        698.0|\n",
      "|         19|        362.0|\n",
      "|         15|        458.0|\n",
      "|          9|        602.0|\n",
      "|         17|       8794.0|\n",
      "|          4|        746.0|\n",
      "|          8|        626.0|\n",
      "|         23|        747.0|\n",
      "+-----------+-------------+\n",
      "only showing top 20 rows\n",
      "\n"
     ]
    }
   ],
   "source": [
    "df_fhv.groupBy('pickup_date').max('duration').show()"
   ]
  },
  {
   "cell_type": "code",
   "execution_count": 55,
   "id": "cda51e58-8cfe-42ff-8462-52942642ff49",
   "metadata": {},
   "outputs": [],
   "source": [
    "df_zones = spark.read.option(\"header\", \"true\").csv('data/raw/fhv/zones/')"
   ]
  },
  {
   "cell_type": "code",
   "execution_count": 56,
   "id": "a599f935-6f01-4917-a2f8-80afe75e94f2",
   "metadata": {},
   "outputs": [
    {
     "name": "stdout",
     "output_type": "stream",
     "text": [
      "+----------+-------------+--------------------+------------+\n",
      "|LocationID|      Borough|                Zone|service_zone|\n",
      "+----------+-------------+--------------------+------------+\n",
      "|         1|          EWR|      Newark Airport|         EWR|\n",
      "|         2|       Queens|         Jamaica Bay|   Boro Zone|\n",
      "|         3|        Bronx|Allerton/Pelham G...|   Boro Zone|\n",
      "|         4|    Manhattan|       Alphabet City| Yellow Zone|\n",
      "|         5|Staten Island|       Arden Heights|   Boro Zone|\n",
      "|         6|Staten Island|Arrochar/Fort Wad...|   Boro Zone|\n",
      "|         7|       Queens|             Astoria|   Boro Zone|\n",
      "|         8|       Queens|        Astoria Park|   Boro Zone|\n",
      "|         9|       Queens|          Auburndale|   Boro Zone|\n",
      "|        10|       Queens|        Baisley Park|   Boro Zone|\n",
      "|        11|     Brooklyn|          Bath Beach|   Boro Zone|\n",
      "|        12|    Manhattan|        Battery Park| Yellow Zone|\n",
      "|        13|    Manhattan|   Battery Park City| Yellow Zone|\n",
      "|        14|     Brooklyn|           Bay Ridge|   Boro Zone|\n",
      "|        15|       Queens|Bay Terrace/Fort ...|   Boro Zone|\n",
      "|        16|       Queens|             Bayside|   Boro Zone|\n",
      "|        17|     Brooklyn|             Bedford|   Boro Zone|\n",
      "|        18|        Bronx|        Bedford Park|   Boro Zone|\n",
      "|        19|       Queens|           Bellerose|   Boro Zone|\n",
      "|        20|        Bronx|             Belmont|   Boro Zone|\n",
      "+----------+-------------+--------------------+------------+\n",
      "only showing top 20 rows\n",
      "\n"
     ]
    }
   ],
   "source": [
    "df_zones.show()"
   ]
  },
  {
   "cell_type": "code",
   "execution_count": 57,
   "id": "a80bbd9a-35e4-4269-ac7e-a009e2fb8782",
   "metadata": {},
   "outputs": [],
   "source": [
    "df_result = df_fhv.join(df_zones, df_fhv.PUlocationID == df_zones.LocationID)"
   ]
  },
  {
   "cell_type": "code",
   "execution_count": 60,
   "id": "d83ec69a-6569-445c-b4ed-4266a223e6d8",
   "metadata": {},
   "outputs": [],
   "source": [
    "df_result = df_result.drop('LocationID')"
   ]
  },
  {
   "cell_type": "code",
   "execution_count": 67,
   "id": "319c4b8c-82f6-4973-b792-f5b961176d0d",
   "metadata": {},
   "outputs": [
    {
     "name": "stdout",
     "output_type": "stream",
     "text": [
      "+--------------------+-----+\n",
      "|                Zone|count|\n",
      "+--------------------+-----+\n",
      "|         Jamaica Bay|    1|\n",
      "|Governor's Island...|    2|\n",
      "| Green-Wood Cemetery|    5|\n",
      "|       Broad Channel|    8|\n",
      "|     Highbridge Park|   14|\n",
      "|        Battery Park|   15|\n",
      "|Saint Michaels Ce...|   23|\n",
      "|Breezy Point/Fort...|   25|\n",
      "|Marine Park/Floyd...|   26|\n",
      "|        Astoria Park|   29|\n",
      "|    Inwood Hill Park|   39|\n",
      "|       Willets Point|   47|\n",
      "|Forest Park/Highl...|   53|\n",
      "|  Brooklyn Navy Yard|   57|\n",
      "|        Crotona Park|   62|\n",
      "|        Country Club|   77|\n",
      "|     Freshkills Park|   89|\n",
      "|       Prospect Park|   98|\n",
      "|     Columbia Street|  105|\n",
      "|  South Williamsburg|  110|\n",
      "+--------------------+-----+\n",
      "only showing top 20 rows\n",
      "\n"
     ]
    }
   ],
   "source": [
    "df_result.groupBy('Zone').count().orderBy('count').show()"
   ]
  },
  {
   "cell_type": "code",
   "execution_count": null,
   "id": "d796cde1-027e-4bc9-8047-4937bdbde5c0",
   "metadata": {},
   "outputs": [],
   "source": []
  }
 ],
 "metadata": {
  "kernelspec": {
   "display_name": "Python 3 (ipykernel)",
   "language": "python",
   "name": "python3"
  },
  "language_info": {
   "codemirror_mode": {
    "name": "ipython",
    "version": 3
   },
   "file_extension": ".py",
   "mimetype": "text/x-python",
   "name": "python",
   "nbconvert_exporter": "python",
   "pygments_lexer": "ipython3",
   "version": "3.12.2"
  }
 },
 "nbformat": 4,
 "nbformat_minor": 5
}
